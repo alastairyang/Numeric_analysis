{
 "cells": [
  {
   "cell_type": "code",
   "execution_count": 1,
   "id": "c99f03fd",
   "metadata": {},
   "outputs": [],
   "source": [
    "import matplotlib.pyplot as plt\n",
    "import numpy as np\n",
    "import pdb"
   ]
  },
  {
   "cell_type": "code",
   "execution_count": 2,
   "id": "a7a31c32",
   "metadata": {},
   "outputs": [],
   "source": [
    "# definition of the numerical methods\n",
    "def secant(f, x0, x1, t):\n",
    "    \n",
    "    x_km1 = x0\n",
    "    x_k = x1\n",
    "    x_i = np.ones((t, 1))\n",
    "    \n",
    "    for i in range(t):\n",
    "        x_kp1 = x_k - f(x_k)*(x_k - x_km1)/(f(x_k) - f(x_km1))\n",
    "        x_i[i] = x_kp1\n",
    "        # substitute\n",
    "        x_km1 = x_k\n",
    "        x_k = x_kp1\n",
    "    \n",
    "    return(x_kp1, x_i)\n",
    "\n",
    "def newton(z, z_prime, x0, t = 20):\n",
    "    xs = np.zeros((t,1))\n",
    "    error = np.zeros((t,1))\n",
    "    for i in range(t):\n",
    "        \n",
    "        x1 = x0 - z(x0)/z_prime(x0)\n",
    "        x0 = x1\n",
    "        \n",
    "        xs[i] = x0\n",
    "    return xs\n",
    "\n",
    "def modified_newton(z, z_p, z_pp, x0, t = 20):\n",
    "    xs = np.zeros((t,1))\n",
    "    error = np.zeros((t,1))\n",
    "    for i in range(t):\n",
    "        \n",
    "        x1 = x0 - z(x0)*z_p(x0)/(z_p(x0)**2 - z(x0)*z_pp(x0))\n",
    "        x0 = x1\n",
    "        \n",
    "        xs[i] = x0\n",
    "    return xs\n",
    "\n",
    "def horner(deg_v, a_v, z):\n",
    "    \"\"\"horner's method: solve polynomial.\n",
    "    \n",
    "    Parameter:\n",
    "    ----------\n",
    "    deg_v: boolean array\n",
    "        length n+1 boolean vector, from zero degree to n degree. if a degree x^i exits, deg[i] = 1. Otherwise deg[i] = 0\n",
    "    a_v: double array\n",
    "        length n+1 vector, the coefficient for each degree term\n",
    "    \"\"\"\n",
    "    if not len(deg_v) - len(a_v) == 0:\n",
    "        print('Vector lengths do not concur!')\n",
    "        return\n",
    "\n",
    "    # constructing b array\n",
    "    b_v = np.zeros_like(a_v)\n",
    "    for idx, i in enumerate(range(len(a_v)-1, -1, -1)):\n",
    "        #pdb.set_trace()\n",
    "        if idx == 0:\n",
    "            b_v[i] = a_v[i]\n",
    "        else:\n",
    "            b_v[i] = a_v[i] + b_v[i+1]*z\n",
    "    \n",
    "    # construct the equation q(x)\n",
    "    q = \"q(x) = \"\n",
    "    for i in range(len(b_v)):\n",
    "        if b_v[i] == 0:\n",
    "            continue\n",
    "        else:\n",
    "            q = q + \" + \" + \"(\"+str(b_v[i])+\")\" + \"*x^\" + str(i)\n",
    "    \n",
    "    print(q)\n",
    "    \n",
    "    # construct deg_v for q(x)\n",
    "    deg_v_q = [0 if i == 0 else 1 for i in b_v]\n",
    "    return(deg_v_q, b_v)\n",
    "\n",
    "def find_roots(deg_v, a_v, x0, t, z_prior = np.nan):\n",
    "    \"\"\"Find all roots: first find a root using Newton's method, then use Horner's method to deflate the original q(x)\n",
    "       and find the new q(x). We iterate this process until all roots are found.\"\"\"\n",
    "    # first construct derivative of the polynomial for newton's method\n",
    "    def poly_eval(deg_v, a_v, x):\n",
    "        \"\"\"Evaluate the polynomial\"\"\"\n",
    "        y = 0\n",
    "        for idx, onoff in enumerate(deg_v):\n",
    "            y += a_v[idx]*onoff*x**idx\n",
    "        return y\n",
    "    \n",
    "    def poly_prime_eval(deg_v, a_v, x):\n",
    "        \"\"\"Derive the derivative of a polynomial and evaluate \"\"\"\n",
    "        coef = np.nonzero(deg_v)[0]*np.array(a_v)[1:]\n",
    "        new_deg = np.nonzero(deg_v)[0] - 1\n",
    "        new_deg = new_deg[new_deg >= 0]\n",
    "        new_deg_v = np.zeros_like(coef)\n",
    "        for i in new_deg:\n",
    "            new_deg_v[i] = 1\n",
    "        # evaluate\n",
    "        return poly_eval(new_deg_v, coef, x)\n",
    "    \n",
    "    def newton_poly(z, z_prime, x0, deg_v, a_v, t = 20):\n",
    "        \"\"\"Newton's method for polynomial \"\"\"\n",
    "        xs = np.zeros((t,1))\n",
    "        for i in range(t):\n",
    "            x1 = x0 - z(deg_v, a_v, x0)/z_prime(deg_v, a_v, x0)\n",
    "            x0 = x1\n",
    "\n",
    "            xs[i] = x0\n",
    "        return xs\n",
    "    \n",
    "    search = True\n",
    "    while search:\n",
    "        # newton -> find the root\n",
    "        xs = newton_poly(poly_eval, poly_prime_eval, x0, deg_v, a_v, t)\n",
    "        z = xs[-1]\n",
    "\n",
    "        # horner -> find q(x)\n",
    "        deg_v_q, b_v_q = horner(deg_v, a_v, z)\n",
    "        b0 = b_v_q[0]\n",
    "        if abs(b0 - 0) < 1e-5: # tolerance level\n",
    "            print('We find a root: z = {}'.format(z))\n",
    "            \n",
    "            # assign as a prior root, keep looking for the next one\n",
    "            if z_prior != z:\n",
    "                z_prior = z\n",
    "                \n",
    "            # if the root is repeating\n",
    "            else:\n",
    "                print('We found all the roots.')\n",
    "                return(deg_v_q, b_v_q)\n",
    "\n",
    "        else:\n",
    "            print('b0 is not zero! z is not a root')\n",
    "            return\n",
    "\n"
   ]
  },
  {
   "cell_type": "markdown",
   "id": "82ed3031",
   "metadata": {},
   "source": [
    "# HW3 MTH 537 - Numeric Analysis\n",
    "## Donglai Yang\n"
   ]
  },
  {
   "cell_type": "markdown",
   "id": "467aaee0",
   "metadata": {},
   "source": [
    "### Problem 1\n",
    "Applying Secant Method"
   ]
  },
  {
   "cell_type": "code",
   "execution_count": 3,
   "id": "28183e75",
   "metadata": {},
   "outputs": [
    {
     "data": {
      "image/png": "[encoded data removed]",
      "text/plain": [
       "<Figure size 432x288 with 2 Axes>"
      ]
     },
     "metadata": {
      "needs_background": "light"
     },
     "output_type": "display_data"
    }
   ],
   "source": [
    "def f(x):\n",
    "    return np.exp(x/2 - 1) - x\n",
    "\n",
    "t = 17\n",
    "x0 = 20\n",
    "x1 = 15\n",
    "xt, x_i = secant(f = f, x0 = x0, x1 = x1, t = t)\n",
    "\n",
    "err = abs(x_i - xt)\n",
    "step_err = abs(err[1::] - err[0:-1])\n",
    "\n",
    "fig, axes = plt.subplots(1,2)\n",
    "axes[0].semilogy(list(range(t)), err)\n",
    "axes[1].plot(list(range(t)[1:]), step_err)\n",
    "axes[0].set_ylabel(r'error $|x_t - x_T|$')\n",
    "axes[1].set_ylabel(r'$|x_t - x_{t-1}|$')\n",
    "axes[0].set_xlabel('iteration')\n",
    "axes[1].set_xlabel('iteration')\n",
    "fig.suptitle(r'Secant method, f(x) = $e^{x/2-1} - x$')\n",
    "fig.tight_layout()"
   ]
  },
  {
   "cell_type": "markdown",
   "id": "76e62e73",
   "metadata": {},
   "source": [
    "### Problem 2\n",
    "Comparing Secant method, Newton's method, and Modified Newton's method"
   ]
  },
  {
   "cell_type": "code",
   "execution_count": 4,
   "id": "b3315527",
   "metadata": {},
   "outputs": [
    {
     "data": {
      "image/png": "[encoded data removed]",
      "text/plain": [
       "<Figure size 432x288 with 2 Axes>"
      ]
     },
     "metadata": {
      "needs_background": "light"
     },
     "output_type": "display_data"
    }
   ],
   "source": [
    "# a trickier function\n",
    "def g(x):\n",
    "    return x**4 - 4*x**2 + 4\n",
    "\n",
    "t = 25\n",
    "x0 = 1.413\n",
    "x1 = 1.412\n",
    "xt, x_i = secant(f = g, x0 = x0, x1 = x1, t = t)\n",
    "\n",
    "# error and plot\n",
    "err = abs(x_i - xt)\n",
    "step_err = abs(err[1::] - err[0:-1])\n",
    "\n",
    "fig, axes = plt.subplots(1,2)\n",
    "axes[0].semilogy(list(range(t)), err)\n",
    "axes[1].plot(list(range(t)[1:]), step_err)\n",
    "axes[0].set_ylabel(r'error $|x_t - x_T|$')\n",
    "axes[1].set_ylabel(r'$|x_t - x_{t-1}|$')\n",
    "axes[0].set_xlabel('iteration')\n",
    "axes[1].set_xlabel('iteration')\n",
    "fig.suptitle(r'Secant method, $g(x) = x^4 - 4x^2 + 4$')\n",
    "fig.tight_layout()"
   ]
  },
  {
   "cell_type": "markdown",
   "id": "c97c202b",
   "metadata": {},
   "source": [
    "Secant method appears to converge at a linear rate instead of supearlinear. One can see that the derivative of this function is $g'(x) = 4x^3 - 8x$ and $g'(x = \\sqrt{2}) = g'(x = -\\sqrt{2})$. Hence it has multiplicity at least equal to -- if not larger than -- 2"
   ]
  },
  {
   "cell_type": "code",
   "execution_count": 5,
   "id": "03a8cd11",
   "metadata": {},
   "outputs": [
    {
     "data": {
      "image/png": "[encoded data removed]",
      "text/plain": [
       "<Figure size 432x288 with 2 Axes>"
      ]
     },
     "metadata": {
      "needs_background": "light"
     },
     "output_type": "display_data"
    }
   ],
   "source": [
    "# use Newton's method to solve g(x)\n",
    "def g_prime(x):\n",
    "    return 4*x**3 - 8*x\n",
    "\n",
    "t = 25\n",
    "x0 = 10\n",
    "xs = newton(z = g, z_prime = g_prime, x0 = x0, t = t)\n",
    "err_nwt = abs(xs[-1] - xs)\n",
    "step_err_nwt = abs(err_nwt[1::] - err_nwt[0:-1])\n",
    "\n",
    "fig, axes = plt.subplots(1,2)\n",
    "axes[0].semilogy(list(range(t)), err_nwt)\n",
    "axes[1].plot(list(range(t)[1:]), step_err_nwt)\n",
    "axes[0].set_ylabel(r'error $|x_t - x_T|$')\n",
    "axes[1].set_ylabel(r'$|x_t - x_{t-1}|$')\n",
    "axes[0].set_xlabel('iteration')\n",
    "axes[1].set_xlabel('iteration')\n",
    "fig.suptitle(r'Newton-Raphson method, $g(x) = x^4 - 4x^2 + 4$')\n",
    "fig.tight_layout()"
   ]
  },
  {
   "cell_type": "code",
   "execution_count": 6,
   "id": "08647691",
   "metadata": {},
   "outputs": [
    {
     "data": {
      "image/png": "[encoded data removed]",
      "text/plain": [
       "<Figure size 432x288 with 2 Axes>"
      ]
     },
     "metadata": {
      "needs_background": "light"
     },
     "output_type": "display_data"
    }
   ],
   "source": [
    "# use modified Newton's method to recover the quadratic convergence\n",
    "def g_pp(x):\n",
    "    return 12*x**2 - 8\n",
    "\n",
    "t = 25\n",
    "x0 = 10\n",
    "xs = modified_newton(z = g, z_p = g_prime, z_pp = g_pp, x0 = x0, t = t)\n",
    "err_mnwt = abs(xs[-1] - xs)\n",
    "step_err_mnwt = abs(err_mnwt[1::] - err_mnwt[0:-1])\n",
    "\n",
    "fig, axes = plt.subplots(1,2)\n",
    "axes[0].semilogy(list(range(t)), err_mnwt)\n",
    "axes[1].plot(list(range(t)[1:]), step_err_mnwt)\n",
    "axes[0].set_ylabel(r'error $|x_t - x_T|$')\n",
    "axes[1].set_ylabel(r'$|x_t - x_{t-1}|$')\n",
    "axes[0].set_xlabel('iteration')\n",
    "axes[1].set_xlabel('iteration')\n",
    "fig.suptitle(r'Modified Newton-Raphson method, $g(x) = x^4 - 4x^2 + 4$')\n",
    "fig.tight_layout()"
   ]
  },
  {
   "cell_type": "markdown",
   "id": "31b1f2d6",
   "metadata": {},
   "source": [
    "As we can easily see, Newton's method has similar convergence rate with Secant method in this situation. The modified Newton's method has quadratic rate of convergence"
   ]
  },
  {
   "cell_type": "markdown",
   "id": "70dc17c6",
   "metadata": {},
   "source": [
    "### Problem 3\n",
    "Horner's method to solve $p(x) = x^4 - x^2$"
   ]
  },
  {
   "cell_type": "code",
   "execution_count": 7,
   "id": "0d0094ea",
   "metadata": {},
   "outputs": [
    {
     "name": "stdout",
     "output_type": "stream",
     "text": [
      "q(x) =  + (1)*x^3 + (1)*x^4\n",
      "b_0 is 0 = 0\n",
      "...therefore it is a root\n"
     ]
    }
   ],
   "source": [
    "# verify that x = 1 is a root\n",
    "deg_v = [0,0,1 ,0,1]\n",
    "a_v   = [0,0,-1,0,1]\n",
    "z = 1\n",
    "deg_v_q, b_v_q = horner(deg_v, a_v, z)\n",
    "if b_v_q[0] == 0:\n",
    "    print(\"b_0 is {} = 0\".format(b_v_q[0]))\n",
    "    print(\"...therefore it is a root\")\n",
    "else:\n",
    "    print(\"b_0 is {} != 0, hence not a root\".format(b_v_q[0]))"
   ]
  },
  {
   "cell_type": "code",
   "execution_count": 9,
   "id": "074adc3d",
   "metadata": {},
   "outputs": [
    {
     "name": "stdout",
     "output_type": "stream",
     "text": [
      "q(x) =  + (1)*x^4\n",
      "b_0 is 0 = 0\n",
      "...therefore it is a root\n"
     ]
    }
   ],
   "source": [
    "# verify that x = -1 is a root for q(x) calculated from the previous step\n",
    "deg_v = deg_v_q\n",
    "a_v   = b_v_q\n",
    "z = -1\n",
    "deg_v_qq, b_v_qq = horner(deg_v, a_v, z)\n",
    "if b_v_qq[0] == 0:\n",
    "    print(\"b_0 is {} = 0\".format(b_v_qq[0]))\n",
    "    print(\"...therefore it is a root\")\n",
    "else:\n",
    "    print(\"b_0 is {} != 0, hence not a root\".format(b_v_qq[0]))"
   ]
  },
  {
   "cell_type": "markdown",
   "id": "8a4d5d9b",
   "metadata": {},
   "source": [
    "now with the $r(x) = q(x)$ calculated from the previous step, we are going to iterate and find all remaining roots"
   ]
  },
  {
   "cell_type": "code",
   "execution_count": 10,
   "id": "b660626e",
   "metadata": {},
   "outputs": [
    {
     "name": "stdout",
     "output_type": "stream",
     "text": [
      "q(x) =  + (1)*x^4\n",
      "We find a root: z = [5.05674526e-11]\n",
      "q(x) =  + (1)*x^4\n",
      "We find a root: z = [5.05674526e-11]\n",
      "We found all the roots.\n"
     ]
    }
   ],
   "source": [
    "# 80 iterations for Newton-Raphson\n",
    "# we start the search at x0 = 0.5\n",
    "deg_v_qqq, b_v_qqq = find_roots(deg_v_qq, b_v_qq, 0.5, 80, -1)"
   ]
  },
  {
   "cell_type": "markdown",
   "id": "4a039129",
   "metadata": {},
   "source": [
    "In other words, we have found three roots, $z_1 = 1, z_2 = -1, z_3 = 0$"
   ]
  }
 ],
 "metadata": {
  "kernelspec": {
   "display_name": "Python 3 (ipykernel)",
   "language": "python",
   "name": "python3"
  },
  "language_info": {
   "codemirror_mode": {
    "name": "ipython",
    "version": 3
   },
   "file_extension": ".py",
   "mimetype": "text/x-python",
   "name": "python",
   "nbconvert_exporter": "python",
   "pygments_lexer": "ipython3",
   "version": "3.9.7"
  }
 },
 "nbformat": 4,
 "nbformat_minor": 5
}
